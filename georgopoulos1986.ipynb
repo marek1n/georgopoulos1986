{
 "cells": [
  {
   "cell_type": "code",
   "execution_count": 1,
   "id": "c65a259b",
   "metadata": {},
   "outputs": [],
   "source": [
    "import numpy as np\n",
    "import matplotlib.pyplot as plt\n",
    "# import seaborn as sns\n",
    "import statsmodels.api as sm"
   ]
  },
  {
   "cell_type": "code",
   "execution_count": 2,
   "id": "a2dbcdbf",
   "metadata": {},
   "outputs": [],
   "source": [
    "# simulate neurons over 8 trials\n",
    "n_cells = 250\n",
    "T = 1000 # ms\n",
    "trials = 8\n",
    "\n",
    "# random spike pattern (same for all directions)\n",
    "exp = np.random.randint(2, size=(T, trials, n_cells))"
   ]
  },
  {
   "cell_type": "code",
   "execution_count": 3,
   "id": "c11abd50",
   "metadata": {},
   "outputs": [
    {
     "data": {
      "text/plain": [
       "array([[ 0.57735027,  0.57735027,  0.57735027],\n",
       "       [-0.57735027,  0.57735027,  0.57735027],\n",
       "       [-0.57735027, -0.57735027,  0.57735027],\n",
       "       [ 0.57735027, -0.57735027,  0.57735027],\n",
       "       [ 0.57735027,  0.57735027, -0.57735027],\n",
       "       [-0.57735027,  0.57735027, -0.57735027],\n",
       "       [-0.57735027, -0.57735027, -0.57735027],\n",
       "       [ 0.57735027, -0.57735027, -0.57735027]])"
      ]
     },
     "execution_count": 3,
     "metadata": {},
     "output_type": "execute_result"
    }
   ],
   "source": [
    "def direction_cosines(v: np.ndarray) -> np.ndarray:\n",
    "    basis = np.array([[1,0,0], [0,1,0], [0,0,1]])\n",
    "    normalize = lambda v: v / np.linalg.norm(v)\n",
    "\n",
    "    cos_x = normalize(v) @ basis[0]\n",
    "    cos_y = normalize(v) @ basis[1]\n",
    "    cos_z = normalize(v) @ basis[2]\n",
    "    \n",
    "    return np.array([cos_x, cos_y, cos_z])\n",
    "\n",
    "\n",
    "vertices = [\n",
    "    (1, 1, 1), \n",
    "    (-1, 1, 1), \n",
    "    (-1, -1, 1), \n",
    "    (1, -1, 1), \n",
    "    (1, 1, -1), \n",
    "    (-1, 1, -1), \n",
    "    (-1, -1, -1), \n",
    "    (1, -1, -1)\n",
    "    ]\n",
    "\n",
    "\n",
    "Ms = np.array([direction_cosines(v) for v in vertices])\n",
    "Ms"
   ]
  },
  {
   "cell_type": "code",
   "execution_count": 4,
   "id": "fc7035b2",
   "metadata": {},
   "outputs": [
    {
     "name": "stdout",
     "output_type": "stream",
     "text": [
      "1.0  1.0  1.0  1.0  1.0  1.0  1.0  1.0  "
     ]
    }
   ],
   "source": [
    "# sanity check\n",
    "for i in range(len(Ms)):\n",
    "    m_x, m_y, m_z = Ms[i]\n",
    "    print(np.sqrt((m_x**2 + m_y**2 + m_z**2)), end=\"  \")"
   ]
  },
  {
   "cell_type": "code",
   "execution_count": 5,
   "id": "c28a9e69",
   "metadata": {},
   "outputs": [
    {
     "name": "stdout",
     "output_type": "stream",
     "text": [
      "[[0. 0. 0.]]\n"
     ]
    }
   ],
   "source": [
    "from sklearn.linear_model import LinearRegression\n",
    "\n",
    "cell = exp[:,0,0]\n",
    "\n",
    "dm = np.mean(cell).reshape(1,-1)\n",
    "\n",
    "M = Ms[0].reshape(1,-1)\n",
    "\n",
    "model = LinearRegression().fit(M, dm)\n",
    "print(model.coef_)"
   ]
  },
  {
   "cell_type": "code",
   "execution_count": 6,
   "id": "76646792",
   "metadata": {},
   "outputs": [
    {
     "name": "stdout",
     "output_type": "stream",
     "text": [
      "[-0.01926907  0.00584567  0.01277387]\n"
     ]
    }
   ],
   "source": [
    "D = np.mean(exp[:,:,0], axis=0)\n",
    "model = LinearRegression().fit(Ms, D)\n",
    "print(model.coef_)"
   ]
  },
  {
   "cell_type": "code",
   "execution_count": 7,
   "id": "2bf83846",
   "metadata": {},
   "outputs": [],
   "source": [
    "def compute_direction_vector(neuron: np.ndarray, Ms: np.ndarray) -> tuple[np.ndarray, bool]:\n",
    "    # mean firing rate for the 8 trials\n",
    "    d_M = np.mean(neuron, axis=0)\n",
    "    \n",
    "    # fit linear regression\n",
    "    M_ = sm.add_constant(Ms)\n",
    "    model = sm.OLS(d_M, M_).fit()\n",
    "    predictions = model.predict(M_)\n",
    "    directional = all(model.pvalues <= 0.05) # True iff all bs below alpha lvl\n",
    "    \n",
    "    # extract coefficients (bs)\n",
    "    b, b_x, b_y, b_z = model.params\n",
    "\n",
    "    # direction cosines of preferred direction\n",
    "    k = np.sqrt(b_x**2 + b_y**2 + b_z**2)\n",
    "    C = np.array([b_x/k, b_y/k, b_z/k])\n",
    "    \n",
    "    # vector weight\n",
    "    d_M_avg = np.mean(d_M) # average firing rate accross trials\n",
    "    w_M = d_M_avg - b\n",
    "    \n",
    "    # wighted direction vector\n",
    "    N_M = w_M * C\n",
    "    \n",
    "    return N_M, directional\n",
    "\n",
    "\n",
    "def compute_direction_vector(neuron: np.ndarray, Ms: np.ndarray) -> tuple[np.ndarray, bool]:\n",
    "    # mean firing rate for the 8 trials\n",
    "    d_M = np.mean(neuron, axis=0)\n",
    "    \n",
    "    # fit linear regression\n",
    "    Ms_ = sm.add_constant(Ms)\n",
    "    model = sm.OLS(d_M, Ms_).fit()\n",
    "    predictions = model.predict(Ms_)\n",
    "    directional = all(model.pvalues <= 0.05) # True iff all bs below alpha lvl\n",
    "    \n",
    "    # extract coefficients (bs)\n",
    "    b, b_x, b_y, b_z = model.params\n",
    "\n",
    "    # direction cosines of preferred direction\n",
    "    k = np.sqrt(b_x**2 + b_y**2 + b_z**2)\n",
    "    C = np.array([b_x/k, b_y/k, b_z/k])\n",
    "    \n",
    "    # vector weight\n",
    "    d_M_avg = np.mean(d_M) # average firing rate accross trials\n",
    "    w_M = d_M_avg - b\n",
    "    \n",
    "    # wighted direction vector\n",
    "    N_M = w_M * C\n",
    "    \n",
    "    return N_M, directional\n"
   ]
  },
  {
   "cell_type": "code",
   "execution_count": 9,
   "id": "cadada65",
   "metadata": {},
   "outputs": [
    {
     "name": "stdout",
     "output_type": "stream",
     "text": [
      "Proportion directional: 0.0%\n",
      "Population vector: [-1.84714721e-15 -6.94139676e-17  6.82272393e-16]\n",
      "Average cell vector magnitude: 1.1035616864774056e-16\n"
     ]
    }
   ],
   "source": [
    "vectors = np.zeros((n_cells, 3))\n",
    "dirs = []\n",
    "for n in range(n_cells):\n",
    "    vec, directional = compute_direction_vector(exp[:,:,n], Ms)\n",
    "    vectors[n,:] = vec\n",
    "    dirs.append(directional)\n",
    "\n",
    "# compute population vector\n",
    "print(f\"Proportion directional: {np.mean(dirs)*100}%\")\n",
    "\n",
    "population_vector = np.sum(vectors, axis=0)\n",
    "print(f\"Population vector: {population_vector}\")\n",
    "\n",
    "print(f\"Average cell vector magnitude: {np.mean([np.linalg.norm(v) for v in vectors])}\")"
   ]
  },
  {
   "cell_type": "code",
   "execution_count": 10,
   "id": "828b391a",
   "metadata": {},
   "outputs": [
    {
     "name": "stdout",
     "output_type": "stream",
     "text": [
      "1.8471472099501635e-15\n",
      "2.192208153606253e-16\n"
     ]
    },
    {
     "data": {
      "image/png": "[encoded data removed]",
      "text/plain": [
       "<Figure size 640x480 with 1 Axes>"
      ]
     },
     "metadata": {},
     "output_type": "display_data"
    }
   ],
   "source": [
    "from mpl_toolkits.mplot3d import Axes3D\n",
    "\n",
    "\n",
    "fig = plt.figure()\n",
    "ax = fig.add_subplot(111, projection='3d')\n",
    "\n",
    "def plot_vectors_3d(vectors, mov_axes=False):\n",
    "    # Plot each vector as a line\n",
    "\n",
    "    if mov_axes: \n",
    "        for v in vectors: \n",
    "            ax.plot([0, v[0]], [0, v[1]], [0, v[2]], alpha=0.2, linestyle='--', color='k')\n",
    "        return\n",
    "\n",
    "    if vectors.shape == (3,): # single vector\n",
    "        v = vectors\n",
    "        ax.plot([0, v[0]], [0, v[1]], [0, v[2]])\n",
    "        max_dim = max(abs(v[0]), abs(v[1]), abs(v[2]))\n",
    "    else:\n",
    "        for v in vectors: ax.plot([0, v[0]], [0, v[1]], [0, v[2]], alpha=0.2)\n",
    "        max_dim = max(max(abs(v[0]), abs(v[1]), abs(v[2])) for v in vectors)\n",
    "\n",
    "    # set the limits of the plot\n",
    "    ax.set_xlim([-max_dim, max_dim])\n",
    "    ax.set_ylim([-max_dim, max_dim])\n",
    "    ax.set_zlim([-max_dim, max_dim])\n",
    "    print(max_dim) # BUG ticks are wrong?\n",
    "\n",
    "    ax.set_xlabel('X')\n",
    "    ax.set_ylabel('Y')\n",
    "    ax.set_zlabel('Z')\n",
    "\n",
    "\n",
    "plot_vectors_3d(population_vector)\n",
    "plot_vectors_3d(vectors)\n",
    "plot_vectors_3d(np.array(vertices), mov_axes=True)"
   ]
  },
  {
   "attachments": {},
   "cell_type": "markdown",
   "id": "b03616b5",
   "metadata": {},
   "source": [
    "### compute angle"
   ]
  },
  {
   "cell_type": "code",
   "execution_count": 11,
   "id": "935497ce",
   "metadata": {},
   "outputs": [
    {
     "name": "stdout",
     "output_type": "stream",
     "text": [
      "Angle between vertex (1, 1, 1) and population vector: 111.20284226988385\n",
      "Angle between vertex (-1, 1, 1) and population vector: 43.87695938265026\n",
      "Angle between vertex (-1, -1, 1) and population vector: 40.40257296050378\n",
      "Angle between vertex (1, -1, 1) and population vector: 108.72289791046451\n",
      "Angle between vertex (1, 1, -1) and population vector: 139.59742703949624\n",
      "Angle between vertex (-1, 1, -1) and population vector: 71.27710208953549\n",
      "Angle between vertex (-1, -1, -1) and population vector: 68.79715773011615\n",
      "Angle between vertex (1, -1, -1) and population vector: 136.12304061734974\n"
     ]
    }
   ],
   "source": [
    "def compute_angle(v1: np.ndarray, v2: np.ndarray):\n",
    "    normalize = lambda v: v / np.linalg.norm(v)\n",
    "    # v1_u, v2_u = v1, v2\n",
    "    v1_u, v2_u = normalize(v1), normalize(v2)\n",
    "    return np.arccos(np.clip((v1_u @ v2_u), -1.0, 1.0))\n",
    "\n",
    "for vertex in vertices:\n",
    "    angle = np.degrees(compute_angle(population_vector, vertex))\n",
    "    print(f\"Angle between vertex {vertex} and population vector: {angle}\")"
   ]
  },
  {
   "attachments": {},
   "cell_type": "markdown",
   "id": "db1ce8f4",
   "metadata": {},
   "source": [
    "## non-random spike trains"
   ]
  },
  {
   "cell_type": "code",
   "execution_count": 12,
   "id": "651cea42",
   "metadata": {},
   "outputs": [],
   "source": [
    "# simulate neurons over 8 trials\n",
    "n_cells = 250\n",
    "T = 1000 # ms\n",
    "trials = 8\n",
    "\n",
    "exp = np.zeros((T, trials, n_cells))\n",
    "\n",
    "# 8 trials, each involves movement in specific direction\n",
    "# -> on each trial only a select population responds\n",
    "\n",
    "# exp[:, 0, 0:25] = np.random.randint(2, size=(T, trials, 25))\n",
    "# exp[:, 1, 25:50] = np.random.randint(2, size=(T, trials, 25))\n",
    "# ...\n",
    "\n",
    "for t, cell in zip(range(trials), range(0, n_cells, 25)):\n",
    "    exp[:, t, cell:cell+25] = np.random.randint(2, size=(T, 25))"
   ]
  },
  {
   "cell_type": "code",
   "execution_count": null,
   "id": "70dcfa81",
   "metadata": {},
   "outputs": [],
   "source": [
    "def plot_3d_array(data):\n",
    "    fig = plt.figure()\n",
    "    ax = fig.add_subplot(111, projection='3d')\n",
    "    x, y, z = np.indices(data.shape)\n",
    "    ax.scatter(x.flatten(), y.flatten(), z.flatten(), c=data.flatten())\n",
    "\n",
    "\n",
    "# plot_3d_array(exp)"
   ]
  },
  {
   "attachments": {},
   "cell_type": "markdown",
   "id": "74b5551e",
   "metadata": {},
   "source": [
    "cells 0 - 175 are directionally tuned, the rest are not"
   ]
  },
  {
   "cell_type": "code",
   "execution_count": 14,
   "id": "2c7cea19",
   "metadata": {},
   "outputs": [
    {
     "name": "stdout",
     "output_type": "stream",
     "text": [
      "Proportion directional: 0.0%\n",
      "Population vector: [nan nan nan]\n",
      "Average cell vector magnitude: nan\n"
     ]
    },
    {
     "name": "stderr",
     "output_type": "stream",
     "text": [
      "/var/folders/zj/mv8z2fl52v172cdpjlkt5cj00000gn/T/ipykernel_4169/590117861.py:43: RuntimeWarning: invalid value encountered in scalar divide\n",
      "  C = np.array([b_x/k, b_y/k, b_z/k])\n",
      "/var/folders/zj/mv8z2fl52v172cdpjlkt5cj00000gn/T/ipykernel_4169/590117861.py:43: RuntimeWarning: invalid value encountered in scalar divide\n",
      "  C = np.array([b_x/k, b_y/k, b_z/k])\n",
      "/var/folders/zj/mv8z2fl52v172cdpjlkt5cj00000gn/T/ipykernel_4169/590117861.py:43: RuntimeWarning: invalid value encountered in scalar divide\n",
      "  C = np.array([b_x/k, b_y/k, b_z/k])\n",
      "/var/folders/zj/mv8z2fl52v172cdpjlkt5cj00000gn/T/ipykernel_4169/590117861.py:43: RuntimeWarning: invalid value encountered in scalar divide\n",
      "  C = np.array([b_x/k, b_y/k, b_z/k])\n",
      "/var/folders/zj/mv8z2fl52v172cdpjlkt5cj00000gn/T/ipykernel_4169/590117861.py:43: RuntimeWarning: invalid value encountered in scalar divide\n",
      "  C = np.array([b_x/k, b_y/k, b_z/k])\n",
      "/var/folders/zj/mv8z2fl52v172cdpjlkt5cj00000gn/T/ipykernel_4169/590117861.py:43: RuntimeWarning: invalid value encountered in scalar divide\n",
      "  C = np.array([b_x/k, b_y/k, b_z/k])\n",
      "/var/folders/zj/mv8z2fl52v172cdpjlkt5cj00000gn/T/ipykernel_4169/590117861.py:43: RuntimeWarning: invalid value encountered in scalar divide\n",
      "  C = np.array([b_x/k, b_y/k, b_z/k])\n",
      "/var/folders/zj/mv8z2fl52v172cdpjlkt5cj00000gn/T/ipykernel_4169/590117861.py:43: RuntimeWarning: invalid value encountered in scalar divide\n",
      "  C = np.array([b_x/k, b_y/k, b_z/k])\n",
      "/var/folders/zj/mv8z2fl52v172cdpjlkt5cj00000gn/T/ipykernel_4169/590117861.py:43: RuntimeWarning: invalid value encountered in scalar divide\n",
      "  C = np.array([b_x/k, b_y/k, b_z/k])\n",
      "/var/folders/zj/mv8z2fl52v172cdpjlkt5cj00000gn/T/ipykernel_4169/590117861.py:43: RuntimeWarning: invalid value encountered in scalar divide\n",
      "  C = np.array([b_x/k, b_y/k, b_z/k])\n",
      "/var/folders/zj/mv8z2fl52v172cdpjlkt5cj00000gn/T/ipykernel_4169/590117861.py:43: RuntimeWarning: invalid value encountered in scalar divide\n",
      "  C = np.array([b_x/k, b_y/k, b_z/k])\n",
      "/var/folders/zj/mv8z2fl52v172cdpjlkt5cj00000gn/T/ipykernel_4169/590117861.py:43: RuntimeWarning: invalid value encountered in scalar divide\n",
      "  C = np.array([b_x/k, b_y/k, b_z/k])\n",
      "/var/folders/zj/mv8z2fl52v172cdpjlkt5cj00000gn/T/ipykernel_4169/590117861.py:43: RuntimeWarning: invalid value encountered in scalar divide\n",
      "  C = np.array([b_x/k, b_y/k, b_z/k])\n",
      "/var/folders/zj/mv8z2fl52v172cdpjlkt5cj00000gn/T/ipykernel_4169/590117861.py:43: RuntimeWarning: invalid value encountered in scalar divide\n",
      "  C = np.array([b_x/k, b_y/k, b_z/k])\n",
      "/var/folders/zj/mv8z2fl52v172cdpjlkt5cj00000gn/T/ipykernel_4169/590117861.py:43: RuntimeWarning: invalid value encountered in scalar divide\n",
      "  C = np.array([b_x/k, b_y/k, b_z/k])\n",
      "/var/folders/zj/mv8z2fl52v172cdpjlkt5cj00000gn/T/ipykernel_4169/590117861.py:43: RuntimeWarning: invalid value encountered in scalar divide\n",
      "  C = np.array([b_x/k, b_y/k, b_z/k])\n",
      "/var/folders/zj/mv8z2fl52v172cdpjlkt5cj00000gn/T/ipykernel_4169/590117861.py:43: RuntimeWarning: invalid value encountered in scalar divide\n",
      "  C = np.array([b_x/k, b_y/k, b_z/k])\n",
      "/var/folders/zj/mv8z2fl52v172cdpjlkt5cj00000gn/T/ipykernel_4169/590117861.py:43: RuntimeWarning: invalid value encountered in scalar divide\n",
      "  C = np.array([b_x/k, b_y/k, b_z/k])\n",
      "/var/folders/zj/mv8z2fl52v172cdpjlkt5cj00000gn/T/ipykernel_4169/590117861.py:43: RuntimeWarning: invalid value encountered in scalar divide\n",
      "  C = np.array([b_x/k, b_y/k, b_z/k])\n",
      "/var/folders/zj/mv8z2fl52v172cdpjlkt5cj00000gn/T/ipykernel_4169/590117861.py:43: RuntimeWarning: invalid value encountered in scalar divide\n",
      "  C = np.array([b_x/k, b_y/k, b_z/k])\n",
      "/var/folders/zj/mv8z2fl52v172cdpjlkt5cj00000gn/T/ipykernel_4169/590117861.py:43: RuntimeWarning: invalid value encountered in scalar divide\n",
      "  C = np.array([b_x/k, b_y/k, b_z/k])\n",
      "/var/folders/zj/mv8z2fl52v172cdpjlkt5cj00000gn/T/ipykernel_4169/590117861.py:43: RuntimeWarning: invalid value encountered in scalar divide\n",
      "  C = np.array([b_x/k, b_y/k, b_z/k])\n",
      "/var/folders/zj/mv8z2fl52v172cdpjlkt5cj00000gn/T/ipykernel_4169/590117861.py:43: RuntimeWarning: invalid value encountered in scalar divide\n",
      "  C = np.array([b_x/k, b_y/k, b_z/k])\n",
      "/var/folders/zj/mv8z2fl52v172cdpjlkt5cj00000gn/T/ipykernel_4169/590117861.py:43: RuntimeWarning: invalid value encountered in scalar divide\n",
      "  C = np.array([b_x/k, b_y/k, b_z/k])\n",
      "/var/folders/zj/mv8z2fl52v172cdpjlkt5cj00000gn/T/ipykernel_4169/590117861.py:43: RuntimeWarning: invalid value encountered in scalar divide\n",
      "  C = np.array([b_x/k, b_y/k, b_z/k])\n",
      "/var/folders/zj/mv8z2fl52v172cdpjlkt5cj00000gn/T/ipykernel_4169/590117861.py:43: RuntimeWarning: invalid value encountered in scalar divide\n",
      "  C = np.array([b_x/k, b_y/k, b_z/k])\n",
      "/var/folders/zj/mv8z2fl52v172cdpjlkt5cj00000gn/T/ipykernel_4169/590117861.py:43: RuntimeWarning: invalid value encountered in scalar divide\n",
      "  C = np.array([b_x/k, b_y/k, b_z/k])\n",
      "/var/folders/zj/mv8z2fl52v172cdpjlkt5cj00000gn/T/ipykernel_4169/590117861.py:43: RuntimeWarning: invalid value encountered in scalar divide\n",
      "  C = np.array([b_x/k, b_y/k, b_z/k])\n",
      "/var/folders/zj/mv8z2fl52v172cdpjlkt5cj00000gn/T/ipykernel_4169/590117861.py:43: RuntimeWarning: invalid value encountered in scalar divide\n",
      "  C = np.array([b_x/k, b_y/k, b_z/k])\n",
      "/var/folders/zj/mv8z2fl52v172cdpjlkt5cj00000gn/T/ipykernel_4169/590117861.py:43: RuntimeWarning: invalid value encountered in scalar divide\n",
      "  C = np.array([b_x/k, b_y/k, b_z/k])\n",
      "/var/folders/zj/mv8z2fl52v172cdpjlkt5cj00000gn/T/ipykernel_4169/590117861.py:43: RuntimeWarning: invalid value encountered in scalar divide\n",
      "  C = np.array([b_x/k, b_y/k, b_z/k])\n",
      "/var/folders/zj/mv8z2fl52v172cdpjlkt5cj00000gn/T/ipykernel_4169/590117861.py:43: RuntimeWarning: invalid value encountered in scalar divide\n",
      "  C = np.array([b_x/k, b_y/k, b_z/k])\n",
      "/var/folders/zj/mv8z2fl52v172cdpjlkt5cj00000gn/T/ipykernel_4169/590117861.py:43: RuntimeWarning: invalid value encountered in scalar divide\n",
      "  C = np.array([b_x/k, b_y/k, b_z/k])\n",
      "/var/folders/zj/mv8z2fl52v172cdpjlkt5cj00000gn/T/ipykernel_4169/590117861.py:43: RuntimeWarning: invalid value encountered in scalar divide\n",
      "  C = np.array([b_x/k, b_y/k, b_z/k])\n",
      "/var/folders/zj/mv8z2fl52v172cdpjlkt5cj00000gn/T/ipykernel_4169/590117861.py:43: RuntimeWarning: invalid value encountered in scalar divide\n",
      "  C = np.array([b_x/k, b_y/k, b_z/k])\n",
      "/var/folders/zj/mv8z2fl52v172cdpjlkt5cj00000gn/T/ipykernel_4169/590117861.py:43: RuntimeWarning: invalid value encountered in scalar divide\n",
      "  C = np.array([b_x/k, b_y/k, b_z/k])\n",
      "/var/folders/zj/mv8z2fl52v172cdpjlkt5cj00000gn/T/ipykernel_4169/590117861.py:43: RuntimeWarning: invalid value encountered in scalar divide\n",
      "  C = np.array([b_x/k, b_y/k, b_z/k])\n",
      "/var/folders/zj/mv8z2fl52v172cdpjlkt5cj00000gn/T/ipykernel_4169/590117861.py:43: RuntimeWarning: invalid value encountered in scalar divide\n",
      "  C = np.array([b_x/k, b_y/k, b_z/k])\n",
      "/var/folders/zj/mv8z2fl52v172cdpjlkt5cj00000gn/T/ipykernel_4169/590117861.py:43: RuntimeWarning: invalid value encountered in scalar divide\n",
      "  C = np.array([b_x/k, b_y/k, b_z/k])\n",
      "/var/folders/zj/mv8z2fl52v172cdpjlkt5cj00000gn/T/ipykernel_4169/590117861.py:43: RuntimeWarning: invalid value encountered in scalar divide\n",
      "  C = np.array([b_x/k, b_y/k, b_z/k])\n",
      "/var/folders/zj/mv8z2fl52v172cdpjlkt5cj00000gn/T/ipykernel_4169/590117861.py:43: RuntimeWarning: invalid value encountered in scalar divide\n",
      "  C = np.array([b_x/k, b_y/k, b_z/k])\n",
      "/var/folders/zj/mv8z2fl52v172cdpjlkt5cj00000gn/T/ipykernel_4169/590117861.py:43: RuntimeWarning: invalid value encountered in scalar divide\n",
      "  C = np.array([b_x/k, b_y/k, b_z/k])\n",
      "/var/folders/zj/mv8z2fl52v172cdpjlkt5cj00000gn/T/ipykernel_4169/590117861.py:43: RuntimeWarning: invalid value encountered in scalar divide\n",
      "  C = np.array([b_x/k, b_y/k, b_z/k])\n",
      "/var/folders/zj/mv8z2fl52v172cdpjlkt5cj00000gn/T/ipykernel_4169/590117861.py:43: RuntimeWarning: invalid value encountered in scalar divide\n",
      "  C = np.array([b_x/k, b_y/k, b_z/k])\n",
      "/var/folders/zj/mv8z2fl52v172cdpjlkt5cj00000gn/T/ipykernel_4169/590117861.py:43: RuntimeWarning: invalid value encountered in scalar divide\n",
      "  C = np.array([b_x/k, b_y/k, b_z/k])\n",
      "/var/folders/zj/mv8z2fl52v172cdpjlkt5cj00000gn/T/ipykernel_4169/590117861.py:43: RuntimeWarning: invalid value encountered in scalar divide\n",
      "  C = np.array([b_x/k, b_y/k, b_z/k])\n",
      "/var/folders/zj/mv8z2fl52v172cdpjlkt5cj00000gn/T/ipykernel_4169/590117861.py:43: RuntimeWarning: invalid value encountered in scalar divide\n",
      "  C = np.array([b_x/k, b_y/k, b_z/k])\n",
      "/var/folders/zj/mv8z2fl52v172cdpjlkt5cj00000gn/T/ipykernel_4169/590117861.py:43: RuntimeWarning: invalid value encountered in scalar divide\n",
      "  C = np.array([b_x/k, b_y/k, b_z/k])\n",
      "/var/folders/zj/mv8z2fl52v172cdpjlkt5cj00000gn/T/ipykernel_4169/590117861.py:43: RuntimeWarning: invalid value encountered in scalar divide\n",
      "  C = np.array([b_x/k, b_y/k, b_z/k])\n",
      "/var/folders/zj/mv8z2fl52v172cdpjlkt5cj00000gn/T/ipykernel_4169/590117861.py:43: RuntimeWarning: invalid value encountered in scalar divide\n",
      "  C = np.array([b_x/k, b_y/k, b_z/k])\n"
     ]
    }
   ],
   "source": [
    "vectors = np.zeros((n_cells, 3))\n",
    "dirs = []\n",
    "for n in range(n_cells):\n",
    "    vec, directional = compute_direction_vector(exp[:,:,n], Ms)\n",
    "    vectors[n,:] = vec\n",
    "    dirs.append(directional)\n",
    "\n",
    "# compute population vector\n",
    "print(f\"Proportion directional: {np.mean(dirs)*100}%\")\n",
    "\n",
    "population_vector = np.sum(vectors, axis=0)\n",
    "print(f\"Population vector: {population_vector}\")\n",
    "\n",
    "print(f\"Average cell vector magnitude: {np.mean([np.linalg.norm(v) for v in vectors])}\")"
   ]
  },
  {
   "cell_type": "code",
   "execution_count": null,
   "id": "32e5bdde",
   "metadata": {
    "scrolled": false
   },
   "outputs": [
    {
     "name": "stdout",
     "output_type": "stream",
     "text": [
      "                            OLS Regression Results                            \n",
      "==============================================================================\n",
      "Dep. Variable:                      y   R-squared:                       0.455\n",
      "Model:                            OLS   Adj. R-squared:                  0.045\n",
      "Method:                 Least Squares   F-statistic:                     1.111\n",
      "Date:                Tue, 09 May 2023   Prob (F-statistic):              0.443\n",
      "Time:                        20:20:51   Log-Likelihood:                 31.198\n",
      "No. Observations:                   8   AIC:                            -54.40\n",
      "Df Residuals:                       4   BIC:                            -54.08\n",
      "Df Model:                           3                                         \n",
      "Covariance Type:            nonrobust                                         \n",
      "==============================================================================\n",
      "                 coef    std err          t      P>|t|      [0.025      0.975]\n",
      "------------------------------------------------------------------------------\n",
      "const          0.0500      0.002     20.412      0.000       0.043       0.057\n",
      "x1            -0.0069      0.004     -1.633      0.178      -0.019       0.005\n",
      "x2         -6.939e-18      0.004  -1.64e-15      1.000      -0.012       0.012\n",
      "x3            -0.0035      0.004     -0.816      0.460      -0.015       0.008\n",
      "==============================================================================\n",
      "Omnibus:                        0.136   Durbin-Watson:                   1.917\n",
      "Prob(Omnibus):                  0.934   Jarque-Bera (JB):                0.333\n",
      "Skew:                           0.000   Prob(JB):                        0.846\n",
      "Kurtosis:                       2.000   Cond. No.                         1.73\n",
      "==============================================================================\n",
      "\n",
      "Notes:\n",
      "[1] Standard Errors assume that the covariance matrix of the errors is correctly specified.\n"
     ]
    },
    {
     "name": "stderr",
     "output_type": "stream",
     "text": [
      "/opt/miniconda3/envs/fmri/lib/python3.10/site-packages/scipy/stats/_stats_py.py:1736: UserWarning: kurtosistest only valid for n>=20 ... continuing anyway, n=8\n",
      "  warnings.warn(\"kurtosistest only valid for n>=20 ... continuing \"\n"
     ]
    }
   ],
   "source": [
    "M_ = sm.add_constant(M)\n",
    "model = sm.OLS(d_M, M_).fit()\n",
    "predictions = model.predict(M_) \n",
    " \n",
    "print(model.summary())"
   ]
  }
 ],
 "metadata": {
  "kernelspec": {
   "display_name": "fmri",
   "language": "python",
   "name": "python3"
  },
  "language_info": {
   "codemirror_mode": {
    "name": "ipython",
    "version": 3
   },
   "file_extension": ".py",
   "mimetype": "text/x-python",
   "name": "python",
   "nbconvert_exporter": "python",
   "pygments_lexer": "ipython3",
   "version": "3.10.6"
  }
 },
 "nbformat": 4,
 "nbformat_minor": 5
}
